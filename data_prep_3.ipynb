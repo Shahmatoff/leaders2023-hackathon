{
 "cells": [
  {
   "cell_type": "code",
   "execution_count": 1,
   "id": "0312677c",
   "metadata": {
    "ExecuteTime": {
     "start_time": "2023-05-28T11:30:30.552770Z",
     "end_time": "2023-05-28T11:30:37.329550Z"
    }
   },
   "outputs": [],
   "source": [
    "import pandas as pd\n",
    "from sklearn.model_selection import train_test_split\n",
    "from sklearn.preprocessing import MinMaxScaler\n",
    "import matplotlib.pyplot as plt\n",
    "%matplotlib inline\n",
    "import numpy as np\n",
    "from tensorflow.keras import Sequential, regularizers\n",
    "from tensorflow.keras.layers import Conv1D, MaxPooling1D, Dense, Dropout, GlobalAveragePooling1D\n",
    "from tensorflow.keras.callbacks import EarlyStopping"
   ]
  },
  {
   "cell_type": "code",
   "execution_count": 2,
   "id": "87169db8",
   "metadata": {
    "ExecuteTime": {
     "start_time": "2023-05-28T11:30:37.329550Z",
     "end_time": "2023-05-28T11:30:38.131707Z"
    }
   },
   "outputs": [
    {
     "name": "stdout",
     "output_type": "stream",
     "text": [
      "(981, 10)\n"
     ]
    }
   ],
   "source": [
    "mess = pd.read_excel('messages.xlsx')\n",
    "print(mess.shape)"
   ]
  },
  {
   "cell_type": "code",
   "execution_count": 3,
   "id": "ea9c854d",
   "metadata": {
    "ExecuteTime": {
     "start_time": "2023-05-28T11:30:38.131707Z",
     "end_time": "2023-05-28T11:30:38.194219Z"
    }
   },
   "outputs": [
    {
     "name": "stdout",
     "output_type": "stream",
     "text": [
      "(83, 10)\n"
     ]
    }
   ],
   "source": [
    "mess = mess[mess.iloc[:,5]=='M1']\n",
    "print(mess.shape)"
   ]
  },
  {
   "cell_type": "code",
   "execution_count": 4,
   "id": "3114a0dc",
   "metadata": {
    "ExecuteTime": {
     "start_time": "2023-05-28T11:30:38.147344Z",
     "end_time": "2023-05-28T11:30:38.209843Z"
    }
   },
   "outputs": [
    {
     "name": "stdout",
     "output_type": "stream",
     "text": [
      "(75, 10)\n",
      "(74, 10)\n"
     ]
    }
   ],
   "source": [
    "mess.drop( index = mess[mess.iloc[:,9]=='ТЕХНИЧЕСКИЕ ПЛАНОВЫЕ'].index, inplace=True )\n",
    "print(mess.shape)\n",
    "mess.drop( index = mess[mess.iloc[:,9]=='ТЕХНОЛОГИЧЕСКИЕ ПЛАНОВЫЕ'].index, inplace=True )\n",
    "print(mess.shape)"
   ]
  },
  {
   "cell_type": "code",
   "execution_count": 5,
   "id": "fce71fa4",
   "metadata": {
    "ExecuteTime": {
     "start_time": "2023-05-28T11:30:38.162969Z",
     "end_time": "2023-05-28T11:30:38.209843Z"
    }
   },
   "outputs": [],
   "source": [
    "for i in range (4,10):\n",
    "    mess.iloc[:,2].replace(to_replace='ЭКСГАУСТЕР А/М №{}'.format(i), value=i, inplace=True)"
   ]
  },
  {
   "cell_type": "code",
   "execution_count": 6,
   "id": "a7168ea3",
   "metadata": {
    "ExecuteTime": {
     "start_time": "2023-05-28T11:30:38.178594Z",
     "end_time": "2023-05-28T11:30:38.209843Z"
    }
   },
   "outputs": [],
   "source": [
    "c = mess.columns\n",
    "mess.drop(columns=c[0:2], inplace=True)\n",
    "mess.drop(columns=c[3:7], inplace=True)\n",
    "mess.drop(columns=c[9], inplace=True)"
   ]
  },
  {
   "cell_type": "code",
   "execution_count": 7,
   "id": "730d4d08",
   "metadata": {
    "ExecuteTime": {
     "start_time": "2023-05-28T11:30:38.194219Z",
     "end_time": "2023-05-28T11:30:38.209843Z"
    }
   },
   "outputs": [],
   "source": [
    "mess.drop(index=mess[mess.iloc[:,1] == mess.iloc[:,2]].index, inplace=True)"
   ]
  },
  {
   "cell_type": "code",
   "execution_count": 8,
   "id": "fe249b82",
   "metadata": {
    "ExecuteTime": {
     "start_time": "2023-05-28T11:30:38.209843Z",
     "end_time": "2023-05-28T11:30:38.304004Z"
    }
   },
   "outputs": [
    {
     "data": {
      "text/plain": "{'ИМЯ_МАШИНЫ': 'N',\n 'ДАТА_НАЧАЛА_НЕИСПРАВНОСТИ': 'begin',\n 'ДАТА_УСТРАНЕНИЯ_НЕИСПРАВНОСТИ': 'end'}"
     },
     "execution_count": 8,
     "metadata": {},
     "output_type": "execute_result"
    }
   ],
   "source": [
    "new_col_labels = ['N', 'begin', 'end']\n",
    "\n",
    "col_dict = dict(zip(mess.columns, new_col_labels))\n",
    "col_dict"
   ]
  },
  {
   "cell_type": "code",
   "execution_count": 9,
   "id": "57278665",
   "metadata": {
    "ExecuteTime": {
     "start_time": "2023-05-28T11:30:38.225866Z",
     "end_time": "2023-05-28T11:30:38.304004Z"
    }
   },
   "outputs": [],
   "source": [
    "mess.rename(mapper=col_dict, axis=1, inplace=True)"
   ]
  },
  {
   "cell_type": "code",
   "execution_count": 10,
   "id": "fe734f9c",
   "metadata": {
    "ExecuteTime": {
     "start_time": "2023-05-28T11:30:38.241505Z",
     "end_time": "2023-05-28T11:30:38.320023Z"
    }
   },
   "outputs": [
    {
     "name": "stdout",
     "output_type": "stream",
     "text": [
      "(71, 3)\n"
     ]
    }
   ],
   "source": [
    "mess = mess.reset_index(drop=True)\n",
    "print(mess.shape)"
   ]
  },
  {
   "cell_type": "code",
   "execution_count": 11,
   "id": "6df2f9a9",
   "metadata": {
    "ExecuteTime": {
     "start_time": "2023-05-28T11:30:38.257129Z",
     "end_time": "2023-05-28T11:30:38.320023Z"
    }
   },
   "outputs": [
    {
     "data": {
      "text/plain": "   N               begin                 end\n0  9 2019-03-19 14:00:16 2019-03-19 14:19:19\n1  6 2019-05-01 16:29:38 2019-05-01 19:18:04\n2  5 2019-05-04 09:50:13 2019-05-04 10:37:22\n3  4 2019-05-18 08:27:00 2019-05-18 08:35:51\n4  4 2019-05-29 16:56:26 2019-05-29 16:58:29\n5  7 2019-05-30 07:58:27 2019-05-30 08:13:29\n6  4 2019-07-10 21:43:55 2019-07-10 22:41:02\n7  4 2019-07-30 19:14:34 2019-07-30 19:20:35\n8  8 2019-08-29 18:49:31 2019-08-29 19:17:37\n9  8 2019-10-29 10:22:00 2019-10-29 10:34:00",
      "text/html": "<div>\n<style scoped>\n    .dataframe tbody tr th:only-of-type {\n        vertical-align: middle;\n    }\n\n    .dataframe tbody tr th {\n        vertical-align: top;\n    }\n\n    .dataframe thead th {\n        text-align: right;\n    }\n</style>\n<table border=\"1\" class=\"dataframe\">\n  <thead>\n    <tr style=\"text-align: right;\">\n      <th></th>\n      <th>N</th>\n      <th>begin</th>\n      <th>end</th>\n    </tr>\n  </thead>\n  <tbody>\n    <tr>\n      <th>0</th>\n      <td>9</td>\n      <td>2019-03-19 14:00:16</td>\n      <td>2019-03-19 14:19:19</td>\n    </tr>\n    <tr>\n      <th>1</th>\n      <td>6</td>\n      <td>2019-05-01 16:29:38</td>\n      <td>2019-05-01 19:18:04</td>\n    </tr>\n    <tr>\n      <th>2</th>\n      <td>5</td>\n      <td>2019-05-04 09:50:13</td>\n      <td>2019-05-04 10:37:22</td>\n    </tr>\n    <tr>\n      <th>3</th>\n      <td>4</td>\n      <td>2019-05-18 08:27:00</td>\n      <td>2019-05-18 08:35:51</td>\n    </tr>\n    <tr>\n      <th>4</th>\n      <td>4</td>\n      <td>2019-05-29 16:56:26</td>\n      <td>2019-05-29 16:58:29</td>\n    </tr>\n    <tr>\n      <th>5</th>\n      <td>7</td>\n      <td>2019-05-30 07:58:27</td>\n      <td>2019-05-30 08:13:29</td>\n    </tr>\n    <tr>\n      <th>6</th>\n      <td>4</td>\n      <td>2019-07-10 21:43:55</td>\n      <td>2019-07-10 22:41:02</td>\n    </tr>\n    <tr>\n      <th>7</th>\n      <td>4</td>\n      <td>2019-07-30 19:14:34</td>\n      <td>2019-07-30 19:20:35</td>\n    </tr>\n    <tr>\n      <th>8</th>\n      <td>8</td>\n      <td>2019-08-29 18:49:31</td>\n      <td>2019-08-29 19:17:37</td>\n    </tr>\n    <tr>\n      <th>9</th>\n      <td>8</td>\n      <td>2019-10-29 10:22:00</td>\n      <td>2019-10-29 10:34:00</td>\n    </tr>\n  </tbody>\n</table>\n</div>"
     },
     "execution_count": 11,
     "metadata": {},
     "output_type": "execute_result"
    }
   ],
   "source": [
    "mess.head(10)"
   ]
  },
  {
   "cell_type": "code",
   "execution_count": 12,
   "id": "3d7f447b",
   "metadata": {
    "ExecuteTime": {
     "start_time": "2023-05-28T11:30:38.272756Z",
     "end_time": "2023-05-28T11:30:38.320023Z"
    }
   },
   "outputs": [],
   "source": [
    "mess.end = mess.end.apply(lambda t: t.ceil('10S'))\n",
    "mess.begin = mess.begin.apply(lambda t: t.floor('10S'))"
   ]
  },
  {
   "cell_type": "code",
   "execution_count": 13,
   "id": "2947aed6",
   "metadata": {
    "ExecuteTime": {
     "start_time": "2023-05-28T11:30:38.320023Z",
     "end_time": "2023-05-28T11:30:38.382533Z"
    }
   },
   "outputs": [
    {
     "data": {
      "text/plain": "   N               begin                 end\n0  9 2019-03-19 14:00:10 2019-03-19 14:19:20\n1  6 2019-05-01 16:29:30 2019-05-01 19:18:10\n2  5 2019-05-04 09:50:10 2019-05-04 10:37:30\n3  4 2019-05-18 08:27:00 2019-05-18 08:36:00\n4  4 2019-05-29 16:56:20 2019-05-29 16:58:30\n5  7 2019-05-30 07:58:20 2019-05-30 08:13:30\n6  4 2019-07-10 21:43:50 2019-07-10 22:41:10\n7  4 2019-07-30 19:14:30 2019-07-30 19:20:40\n8  8 2019-08-29 18:49:30 2019-08-29 19:17:40\n9  8 2019-10-29 10:22:00 2019-10-29 10:34:00",
      "text/html": "<div>\n<style scoped>\n    .dataframe tbody tr th:only-of-type {\n        vertical-align: middle;\n    }\n\n    .dataframe tbody tr th {\n        vertical-align: top;\n    }\n\n    .dataframe thead th {\n        text-align: right;\n    }\n</style>\n<table border=\"1\" class=\"dataframe\">\n  <thead>\n    <tr style=\"text-align: right;\">\n      <th></th>\n      <th>N</th>\n      <th>begin</th>\n      <th>end</th>\n    </tr>\n  </thead>\n  <tbody>\n    <tr>\n      <th>0</th>\n      <td>9</td>\n      <td>2019-03-19 14:00:10</td>\n      <td>2019-03-19 14:19:20</td>\n    </tr>\n    <tr>\n      <th>1</th>\n      <td>6</td>\n      <td>2019-05-01 16:29:30</td>\n      <td>2019-05-01 19:18:10</td>\n    </tr>\n    <tr>\n      <th>2</th>\n      <td>5</td>\n      <td>2019-05-04 09:50:10</td>\n      <td>2019-05-04 10:37:30</td>\n    </tr>\n    <tr>\n      <th>3</th>\n      <td>4</td>\n      <td>2019-05-18 08:27:00</td>\n      <td>2019-05-18 08:36:00</td>\n    </tr>\n    <tr>\n      <th>4</th>\n      <td>4</td>\n      <td>2019-05-29 16:56:20</td>\n      <td>2019-05-29 16:58:30</td>\n    </tr>\n    <tr>\n      <th>5</th>\n      <td>7</td>\n      <td>2019-05-30 07:58:20</td>\n      <td>2019-05-30 08:13:30</td>\n    </tr>\n    <tr>\n      <th>6</th>\n      <td>4</td>\n      <td>2019-07-10 21:43:50</td>\n      <td>2019-07-10 22:41:10</td>\n    </tr>\n    <tr>\n      <th>7</th>\n      <td>4</td>\n      <td>2019-07-30 19:14:30</td>\n      <td>2019-07-30 19:20:40</td>\n    </tr>\n    <tr>\n      <th>8</th>\n      <td>8</td>\n      <td>2019-08-29 18:49:30</td>\n      <td>2019-08-29 19:17:40</td>\n    </tr>\n    <tr>\n      <th>9</th>\n      <td>8</td>\n      <td>2019-10-29 10:22:00</td>\n      <td>2019-10-29 10:34:00</td>\n    </tr>\n  </tbody>\n</table>\n</div>"
     },
     "execution_count": 13,
     "metadata": {},
     "output_type": "execute_result"
    }
   ],
   "source": [
    "mess.head(10)"
   ]
  },
  {
   "cell_type": "code",
   "execution_count": 14,
   "id": "6ed2453e",
   "metadata": {
    "ExecuteTime": {
     "start_time": "2023-05-28T11:30:38.335659Z",
     "end_time": "2023-05-28T11:30:38.398159Z"
    }
   },
   "outputs": [],
   "source": [
    "td = pd.Timedelta(600, \"s\")"
   ]
  },
  {
   "cell_type": "code",
   "execution_count": 15,
   "id": "8e1a0cbd",
   "metadata": {
    "ExecuteTime": {
     "start_time": "2023-05-28T11:30:38.351285Z",
     "end_time": "2023-05-28T11:30:38.492319Z"
    }
   },
   "outputs": [],
   "source": [
    "mess['dur'] = np.ceil((mess.end - mess.begin) / td - 0.1)"
   ]
  },
  {
   "cell_type": "code",
   "execution_count": 16,
   "id": "e87ba776",
   "metadata": {
    "ExecuteTime": {
     "start_time": "2023-05-28T11:30:38.366908Z",
     "end_time": "2023-05-28T11:30:38.492319Z"
    }
   },
   "outputs": [
    {
     "data": {
      "text/plain": "    N               begin                 end   dur\n0   9 2019-03-19 14:00:10 2019-03-19 14:19:20   2.0\n1   6 2019-05-01 16:29:30 2019-05-01 19:18:10  17.0\n2   5 2019-05-04 09:50:10 2019-05-04 10:37:30   5.0\n3   4 2019-05-18 08:27:00 2019-05-18 08:36:00   1.0\n4   4 2019-05-29 16:56:20 2019-05-29 16:58:30   1.0\n.. ..                 ...                 ...   ...\n66  5 2021-11-30 14:34:40 2021-11-30 14:42:50   1.0\n67  5 2021-12-09 16:46:40 2021-12-09 16:53:50   1.0\n68  5 2021-12-16 03:38:40 2021-12-16 03:56:50   2.0\n69  5 2021-12-22 17:29:50 2021-12-22 17:37:00   1.0\n70  9 2021-12-29 16:27:00 2021-12-29 16:33:10   1.0\n\n[71 rows x 4 columns]",
      "text/html": "<div>\n<style scoped>\n    .dataframe tbody tr th:only-of-type {\n        vertical-align: middle;\n    }\n\n    .dataframe tbody tr th {\n        vertical-align: top;\n    }\n\n    .dataframe thead th {\n        text-align: right;\n    }\n</style>\n<table border=\"1\" class=\"dataframe\">\n  <thead>\n    <tr style=\"text-align: right;\">\n      <th></th>\n      <th>N</th>\n      <th>begin</th>\n      <th>end</th>\n      <th>dur</th>\n    </tr>\n  </thead>\n  <tbody>\n    <tr>\n      <th>0</th>\n      <td>9</td>\n      <td>2019-03-19 14:00:10</td>\n      <td>2019-03-19 14:19:20</td>\n      <td>2.0</td>\n    </tr>\n    <tr>\n      <th>1</th>\n      <td>6</td>\n      <td>2019-05-01 16:29:30</td>\n      <td>2019-05-01 19:18:10</td>\n      <td>17.0</td>\n    </tr>\n    <tr>\n      <th>2</th>\n      <td>5</td>\n      <td>2019-05-04 09:50:10</td>\n      <td>2019-05-04 10:37:30</td>\n      <td>5.0</td>\n    </tr>\n    <tr>\n      <th>3</th>\n      <td>4</td>\n      <td>2019-05-18 08:27:00</td>\n      <td>2019-05-18 08:36:00</td>\n      <td>1.0</td>\n    </tr>\n    <tr>\n      <th>4</th>\n      <td>4</td>\n      <td>2019-05-29 16:56:20</td>\n      <td>2019-05-29 16:58:30</td>\n      <td>1.0</td>\n    </tr>\n    <tr>\n      <th>...</th>\n      <td>...</td>\n      <td>...</td>\n      <td>...</td>\n      <td>...</td>\n    </tr>\n    <tr>\n      <th>66</th>\n      <td>5</td>\n      <td>2021-11-30 14:34:40</td>\n      <td>2021-11-30 14:42:50</td>\n      <td>1.0</td>\n    </tr>\n    <tr>\n      <th>67</th>\n      <td>5</td>\n      <td>2021-12-09 16:46:40</td>\n      <td>2021-12-09 16:53:50</td>\n      <td>1.0</td>\n    </tr>\n    <tr>\n      <th>68</th>\n      <td>5</td>\n      <td>2021-12-16 03:38:40</td>\n      <td>2021-12-16 03:56:50</td>\n      <td>2.0</td>\n    </tr>\n    <tr>\n      <th>69</th>\n      <td>5</td>\n      <td>2021-12-22 17:29:50</td>\n      <td>2021-12-22 17:37:00</td>\n      <td>1.0</td>\n    </tr>\n    <tr>\n      <th>70</th>\n      <td>9</td>\n      <td>2021-12-29 16:27:00</td>\n      <td>2021-12-29 16:33:10</td>\n      <td>1.0</td>\n    </tr>\n  </tbody>\n</table>\n<p>71 rows × 4 columns</p>\n</div>"
     },
     "execution_count": 16,
     "metadata": {},
     "output_type": "execute_result"
    }
   ],
   "source": [
    "mess"
   ]
  },
  {
   "cell_type": "code",
   "execution_count": 17,
   "id": "2a25f211",
   "metadata": {
    "ExecuteTime": {
     "start_time": "2023-05-28T11:30:38.382533Z",
     "end_time": "2023-05-28T11:30:38.539610Z"
    }
   },
   "outputs": [],
   "source": [
    "mess['delta'] = pd.Timedelta(0, \"H\")\n",
    "mess['m1_no_begin'] = 0\n",
    "\n",
    "for i in mess.index:\n",
    "    \n",
    "    delta = pd.Timedelta(0, \"H\")\n",
    "    if i>0:\n",
    "        delta = mess.loc[i,'begin'] - mess.loc[i-1,'end']\n",
    "        mess.loc[i,'delta'] = delta\n",
    "        \n",
    "    if delta > pd.Timedelta(40, \"H\"):\n",
    "        mess.loc[i,'m1_no_begin'] = mess.loc[i-1,'end'] + pd.Timedelta(24, \"H\")"
   ]
  },
  {
   "cell_type": "code",
   "execution_count": 18,
   "id": "6c96f80f",
   "metadata": {
    "ExecuteTime": {
     "start_time": "2023-05-28T11:30:38.429805Z",
     "end_time": "2023-05-28T11:30:38.618129Z"
    }
   },
   "outputs": [
    {
     "data": {
      "text/plain": "    N               begin                 end   dur            delta  \\\n0   9 2019-03-19 14:00:10 2019-03-19 14:19:20   2.0  0 days 00:00:00   \n1   6 2019-05-01 16:29:30 2019-05-01 19:18:10  17.0 43 days 02:10:10   \n2   5 2019-05-04 09:50:10 2019-05-04 10:37:30   5.0  2 days 14:32:00   \n3   4 2019-05-18 08:27:00 2019-05-18 08:36:00   1.0 13 days 21:49:30   \n4   4 2019-05-29 16:56:20 2019-05-29 16:58:30   1.0 11 days 08:20:20   \n5   7 2019-05-30 07:58:20 2019-05-30 08:13:30   2.0  0 days 14:59:50   \n6   4 2019-07-10 21:43:50 2019-07-10 22:41:10   6.0 41 days 13:30:20   \n7   4 2019-07-30 19:14:30 2019-07-30 19:20:40   1.0 19 days 20:33:20   \n8   8 2019-08-29 18:49:30 2019-08-29 19:17:40   3.0 29 days 23:28:50   \n9   8 2019-10-29 10:22:00 2019-10-29 10:34:00   2.0 60 days 15:04:20   \n10  4 2019-10-29 12:41:50 2019-10-29 14:13:20  10.0  0 days 02:07:50   \n11  7 2020-01-10 19:38:10 2020-01-10 19:44:20   1.0 73 days 05:24:50   \n12  6 2020-01-16 06:18:00 2020-01-16 08:12:20  12.0  5 days 10:33:40   \n13  6 2020-01-17 10:09:30 2020-01-17 13:19:10  19.0  1 days 01:57:10   \n14  5 2020-01-21 15:54:20 2020-01-21 16:06:30   2.0  4 days 02:35:10   \n15  8 2020-03-21 05:46:40 2020-03-21 06:16:00   3.0 59 days 13:40:10   \n16  8 2020-03-21 06:21:50 2020-03-21 06:31:00   1.0  0 days 00:05:50   \n17  4 2020-04-01 10:19:00 2020-04-01 10:28:20   1.0 11 days 03:48:00   \n18  4 2020-04-03 07:17:40 2020-04-03 07:40:50   3.0  1 days 20:49:20   \n19  4 2020-04-04 19:32:20 2020-04-04 21:05:40  10.0  1 days 11:51:30   \n\n            m1_no_begin  \n0                     0  \n1   2019-03-20 14:19:20  \n2   2019-05-02 19:18:10  \n3   2019-05-05 10:37:30  \n4   2019-05-19 08:36:00  \n5                     0  \n6   2019-05-31 08:13:30  \n7   2019-07-11 22:41:10  \n8   2019-07-31 19:20:40  \n9   2019-08-30 19:17:40  \n10                    0  \n11  2019-10-30 14:13:20  \n12  2020-01-11 19:44:20  \n13                    0  \n14  2020-01-18 13:19:10  \n15  2020-01-22 16:06:30  \n16                    0  \n17  2020-03-22 06:31:00  \n18  2020-04-02 10:28:20  \n19                    0  ",
      "text/html": "<div>\n<style scoped>\n    .dataframe tbody tr th:only-of-type {\n        vertical-align: middle;\n    }\n\n    .dataframe tbody tr th {\n        vertical-align: top;\n    }\n\n    .dataframe thead th {\n        text-align: right;\n    }\n</style>\n<table border=\"1\" class=\"dataframe\">\n  <thead>\n    <tr style=\"text-align: right;\">\n      <th></th>\n      <th>N</th>\n      <th>begin</th>\n      <th>end</th>\n      <th>dur</th>\n      <th>delta</th>\n      <th>m1_no_begin</th>\n    </tr>\n  </thead>\n  <tbody>\n    <tr>\n      <th>0</th>\n      <td>9</td>\n      <td>2019-03-19 14:00:10</td>\n      <td>2019-03-19 14:19:20</td>\n      <td>2.0</td>\n      <td>0 days 00:00:00</td>\n      <td>0</td>\n    </tr>\n    <tr>\n      <th>1</th>\n      <td>6</td>\n      <td>2019-05-01 16:29:30</td>\n      <td>2019-05-01 19:18:10</td>\n      <td>17.0</td>\n      <td>43 days 02:10:10</td>\n      <td>2019-03-20 14:19:20</td>\n    </tr>\n    <tr>\n      <th>2</th>\n      <td>5</td>\n      <td>2019-05-04 09:50:10</td>\n      <td>2019-05-04 10:37:30</td>\n      <td>5.0</td>\n      <td>2 days 14:32:00</td>\n      <td>2019-05-02 19:18:10</td>\n    </tr>\n    <tr>\n      <th>3</th>\n      <td>4</td>\n      <td>2019-05-18 08:27:00</td>\n      <td>2019-05-18 08:36:00</td>\n      <td>1.0</td>\n      <td>13 days 21:49:30</td>\n      <td>2019-05-05 10:37:30</td>\n    </tr>\n    <tr>\n      <th>4</th>\n      <td>4</td>\n      <td>2019-05-29 16:56:20</td>\n      <td>2019-05-29 16:58:30</td>\n      <td>1.0</td>\n      <td>11 days 08:20:20</td>\n      <td>2019-05-19 08:36:00</td>\n    </tr>\n    <tr>\n      <th>5</th>\n      <td>7</td>\n      <td>2019-05-30 07:58:20</td>\n      <td>2019-05-30 08:13:30</td>\n      <td>2.0</td>\n      <td>0 days 14:59:50</td>\n      <td>0</td>\n    </tr>\n    <tr>\n      <th>6</th>\n      <td>4</td>\n      <td>2019-07-10 21:43:50</td>\n      <td>2019-07-10 22:41:10</td>\n      <td>6.0</td>\n      <td>41 days 13:30:20</td>\n      <td>2019-05-31 08:13:30</td>\n    </tr>\n    <tr>\n      <th>7</th>\n      <td>4</td>\n      <td>2019-07-30 19:14:30</td>\n      <td>2019-07-30 19:20:40</td>\n      <td>1.0</td>\n      <td>19 days 20:33:20</td>\n      <td>2019-07-11 22:41:10</td>\n    </tr>\n    <tr>\n      <th>8</th>\n      <td>8</td>\n      <td>2019-08-29 18:49:30</td>\n      <td>2019-08-29 19:17:40</td>\n      <td>3.0</td>\n      <td>29 days 23:28:50</td>\n      <td>2019-07-31 19:20:40</td>\n    </tr>\n    <tr>\n      <th>9</th>\n      <td>8</td>\n      <td>2019-10-29 10:22:00</td>\n      <td>2019-10-29 10:34:00</td>\n      <td>2.0</td>\n      <td>60 days 15:04:20</td>\n      <td>2019-08-30 19:17:40</td>\n    </tr>\n    <tr>\n      <th>10</th>\n      <td>4</td>\n      <td>2019-10-29 12:41:50</td>\n      <td>2019-10-29 14:13:20</td>\n      <td>10.0</td>\n      <td>0 days 02:07:50</td>\n      <td>0</td>\n    </tr>\n    <tr>\n      <th>11</th>\n      <td>7</td>\n      <td>2020-01-10 19:38:10</td>\n      <td>2020-01-10 19:44:20</td>\n      <td>1.0</td>\n      <td>73 days 05:24:50</td>\n      <td>2019-10-30 14:13:20</td>\n    </tr>\n    <tr>\n      <th>12</th>\n      <td>6</td>\n      <td>2020-01-16 06:18:00</td>\n      <td>2020-01-16 08:12:20</td>\n      <td>12.0</td>\n      <td>5 days 10:33:40</td>\n      <td>2020-01-11 19:44:20</td>\n    </tr>\n    <tr>\n      <th>13</th>\n      <td>6</td>\n      <td>2020-01-17 10:09:30</td>\n      <td>2020-01-17 13:19:10</td>\n      <td>19.0</td>\n      <td>1 days 01:57:10</td>\n      <td>0</td>\n    </tr>\n    <tr>\n      <th>14</th>\n      <td>5</td>\n      <td>2020-01-21 15:54:20</td>\n      <td>2020-01-21 16:06:30</td>\n      <td>2.0</td>\n      <td>4 days 02:35:10</td>\n      <td>2020-01-18 13:19:10</td>\n    </tr>\n    <tr>\n      <th>15</th>\n      <td>8</td>\n      <td>2020-03-21 05:46:40</td>\n      <td>2020-03-21 06:16:00</td>\n      <td>3.0</td>\n      <td>59 days 13:40:10</td>\n      <td>2020-01-22 16:06:30</td>\n    </tr>\n    <tr>\n      <th>16</th>\n      <td>8</td>\n      <td>2020-03-21 06:21:50</td>\n      <td>2020-03-21 06:31:00</td>\n      <td>1.0</td>\n      <td>0 days 00:05:50</td>\n      <td>0</td>\n    </tr>\n    <tr>\n      <th>17</th>\n      <td>4</td>\n      <td>2020-04-01 10:19:00</td>\n      <td>2020-04-01 10:28:20</td>\n      <td>1.0</td>\n      <td>11 days 03:48:00</td>\n      <td>2020-03-22 06:31:00</td>\n    </tr>\n    <tr>\n      <th>18</th>\n      <td>4</td>\n      <td>2020-04-03 07:17:40</td>\n      <td>2020-04-03 07:40:50</td>\n      <td>3.0</td>\n      <td>1 days 20:49:20</td>\n      <td>2020-04-02 10:28:20</td>\n    </tr>\n    <tr>\n      <th>19</th>\n      <td>4</td>\n      <td>2020-04-04 19:32:20</td>\n      <td>2020-04-04 21:05:40</td>\n      <td>10.0</td>\n      <td>1 days 11:51:30</td>\n      <td>0</td>\n    </tr>\n  </tbody>\n</table>\n</div>"
     },
     "execution_count": 18,
     "metadata": {},
     "output_type": "execute_result"
    }
   ],
   "source": [
    "mess.head(20)"
   ]
  },
  {
   "cell_type": "code",
   "execution_count": 19,
   "id": "9863e42b",
   "metadata": {
    "ExecuteTime": {
     "start_time": "2023-05-28T11:30:38.461069Z",
     "end_time": "2023-05-28T11:30:38.618129Z"
    }
   },
   "outputs": [
    {
     "data": {
      "text/plain": "(55, 6)"
     },
     "execution_count": 19,
     "metadata": {},
     "output_type": "execute_result"
    }
   ],
   "source": [
    "mess[mess.m1_no_begin != 0].shape"
   ]
  },
  {
   "cell_type": "code",
   "execution_count": 20,
   "id": "d4e5129d",
   "metadata": {
    "ExecuteTime": {
     "start_time": "2023-05-28T11:30:38.476693Z",
     "end_time": "2023-05-28T11:30:38.618129Z"
    }
   },
   "outputs": [],
   "source": [
    "mess.to_csv('output/mess.csv')"
   ]
  },
  {
   "cell_type": "code",
   "execution_count": 21,
   "id": "0f6585ed",
   "metadata": {
    "ExecuteTime": {
     "start_time": "2023-05-28T11:30:38.492319Z",
     "end_time": "2023-05-28T11:30:38.853816Z"
    }
   },
   "outputs": [],
   "source": [
    "m1_ts = pd.DataFrame(columns=mess.columns[0:2])\n",
    "\n",
    "ind_m1_ts = 0\n",
    "\n",
    "for ind_mess in mess.index:\n",
    "\n",
    "    N = mess.N[ind_mess]\n",
    "    begin = mess.begin[ind_mess]\n",
    "\n",
    "    for slot_n in range(int(mess.dur[ind_mess])):\n",
    "        m1_ts.loc[ind_m1_ts,'N'] = N\n",
    "        m1_ts.loc[ind_m1_ts,'begin'] = begin\n",
    "        begin += td\n",
    "        ind_m1_ts += 1\n"
   ]
  },
  {
   "cell_type": "code",
   "execution_count": 22,
   "id": "52c77aba",
   "metadata": {
    "ExecuteTime": {
     "start_time": "2023-05-28T11:30:38.775281Z",
     "end_time": "2023-05-28T11:30:38.900692Z"
    }
   },
   "outputs": [
    {
     "data": {
      "text/plain": "     N                begin\n0    9  2019-03-19 14:00:10\n1    9  2019-03-19 14:10:10\n2    6  2019-05-01 16:29:30\n3    6  2019-05-01 16:39:30\n4    6  2019-05-01 16:49:30\n..  ..                  ...\n663  5  2021-12-09 16:46:40\n664  5  2021-12-16 03:38:40\n665  5  2021-12-16 03:48:40\n666  5  2021-12-22 17:29:50\n667  9  2021-12-29 16:27:00\n\n[668 rows x 2 columns]",
      "text/html": "<div>\n<style scoped>\n    .dataframe tbody tr th:only-of-type {\n        vertical-align: middle;\n    }\n\n    .dataframe tbody tr th {\n        vertical-align: top;\n    }\n\n    .dataframe thead th {\n        text-align: right;\n    }\n</style>\n<table border=\"1\" class=\"dataframe\">\n  <thead>\n    <tr style=\"text-align: right;\">\n      <th></th>\n      <th>N</th>\n      <th>begin</th>\n    </tr>\n  </thead>\n  <tbody>\n    <tr>\n      <th>0</th>\n      <td>9</td>\n      <td>2019-03-19 14:00:10</td>\n    </tr>\n    <tr>\n      <th>1</th>\n      <td>9</td>\n      <td>2019-03-19 14:10:10</td>\n    </tr>\n    <tr>\n      <th>2</th>\n      <td>6</td>\n      <td>2019-05-01 16:29:30</td>\n    </tr>\n    <tr>\n      <th>3</th>\n      <td>6</td>\n      <td>2019-05-01 16:39:30</td>\n    </tr>\n    <tr>\n      <th>4</th>\n      <td>6</td>\n      <td>2019-05-01 16:49:30</td>\n    </tr>\n    <tr>\n      <th>...</th>\n      <td>...</td>\n      <td>...</td>\n    </tr>\n    <tr>\n      <th>663</th>\n      <td>5</td>\n      <td>2021-12-09 16:46:40</td>\n    </tr>\n    <tr>\n      <th>664</th>\n      <td>5</td>\n      <td>2021-12-16 03:38:40</td>\n    </tr>\n    <tr>\n      <th>665</th>\n      <td>5</td>\n      <td>2021-12-16 03:48:40</td>\n    </tr>\n    <tr>\n      <th>666</th>\n      <td>5</td>\n      <td>2021-12-22 17:29:50</td>\n    </tr>\n    <tr>\n      <th>667</th>\n      <td>9</td>\n      <td>2021-12-29 16:27:00</td>\n    </tr>\n  </tbody>\n</table>\n<p>668 rows × 2 columns</p>\n</div>"
     },
     "execution_count": 22,
     "metadata": {},
     "output_type": "execute_result"
    }
   ],
   "source": [
    "m1_ts"
   ]
  },
  {
   "cell_type": "code",
   "execution_count": 23,
   "id": "b6cc6b2a",
   "metadata": {
    "ExecuteTime": {
     "start_time": "2023-05-28T11:30:38.790907Z",
     "end_time": "2023-05-28T11:30:38.900692Z"
    }
   },
   "outputs": [
    {
     "data": {
      "text/plain": "668.0"
     },
     "execution_count": 23,
     "metadata": {},
     "output_type": "execute_result"
    }
   ],
   "source": [
    "mess.dur.sum()"
   ]
  },
  {
   "cell_type": "code",
   "execution_count": 24,
   "id": "5d5a2d50",
   "metadata": {
    "ExecuteTime": {
     "start_time": "2023-05-28T11:30:38.806531Z",
     "end_time": "2023-05-28T11:30:38.932339Z"
    }
   },
   "outputs": [],
   "source": [
    "m1_ts.to_csv('output/m1_ts.csv')"
   ]
  },
  {
   "cell_type": "code",
   "execution_count": 25,
   "id": "67f00a34",
   "metadata": {
    "ExecuteTime": {
     "start_time": "2023-05-28T11:30:38.822554Z",
     "end_time": "2023-05-28T11:30:39.318461Z"
    }
   },
   "outputs": [],
   "source": [
    "m1_pre_ts = pd.DataFrame(columns=mess.columns[0:2])\n",
    "\n",
    "ind_m1_pre_ts = 0\n",
    "\n",
    "pre_ts_n = 18 #3 * 6 # 3 часа == 18 тайм-слотов\n",
    "\n",
    "for ind_mess in mess.index:\n",
    "\n",
    "    N = mess.N[ind_mess]\n",
    "    begin = mess.begin[ind_mess] - td * pre_ts_n\n",
    "\n",
    "    for slot_n in range(pre_ts_n):\n",
    "        m1_pre_ts.loc[ind_m1_pre_ts,'N'] = N\n",
    "        m1_pre_ts.loc[ind_m1_pre_ts,'begin'] = begin\n",
    "        begin += td\n",
    "        ind_m1_pre_ts += 1\n"
   ]
  },
  {
   "cell_type": "code",
   "execution_count": 26,
   "id": "7ac6ad8c",
   "metadata": {
    "ExecuteTime": {
     "start_time": "2023-05-28T11:30:39.318461Z",
     "end_time": "2023-05-28T11:30:39.331971Z"
    }
   },
   "outputs": [
    {
     "data": {
      "text/plain": "      N                begin\n0     9  2019-03-19 11:00:10\n1     9  2019-03-19 11:10:10\n2     9  2019-03-19 11:20:10\n3     9  2019-03-19 11:30:10\n4     9  2019-03-19 11:40:10\n...  ..                  ...\n1273  9  2021-12-29 15:37:00\n1274  9  2021-12-29 15:47:00\n1275  9  2021-12-29 15:57:00\n1276  9  2021-12-29 16:07:00\n1277  9  2021-12-29 16:17:00\n\n[1278 rows x 2 columns]",
      "text/html": "<div>\n<style scoped>\n    .dataframe tbody tr th:only-of-type {\n        vertical-align: middle;\n    }\n\n    .dataframe tbody tr th {\n        vertical-align: top;\n    }\n\n    .dataframe thead th {\n        text-align: right;\n    }\n</style>\n<table border=\"1\" class=\"dataframe\">\n  <thead>\n    <tr style=\"text-align: right;\">\n      <th></th>\n      <th>N</th>\n      <th>begin</th>\n    </tr>\n  </thead>\n  <tbody>\n    <tr>\n      <th>0</th>\n      <td>9</td>\n      <td>2019-03-19 11:00:10</td>\n    </tr>\n    <tr>\n      <th>1</th>\n      <td>9</td>\n      <td>2019-03-19 11:10:10</td>\n    </tr>\n    <tr>\n      <th>2</th>\n      <td>9</td>\n      <td>2019-03-19 11:20:10</td>\n    </tr>\n    <tr>\n      <th>3</th>\n      <td>9</td>\n      <td>2019-03-19 11:30:10</td>\n    </tr>\n    <tr>\n      <th>4</th>\n      <td>9</td>\n      <td>2019-03-19 11:40:10</td>\n    </tr>\n    <tr>\n      <th>...</th>\n      <td>...</td>\n      <td>...</td>\n    </tr>\n    <tr>\n      <th>1273</th>\n      <td>9</td>\n      <td>2021-12-29 15:37:00</td>\n    </tr>\n    <tr>\n      <th>1274</th>\n      <td>9</td>\n      <td>2021-12-29 15:47:00</td>\n    </tr>\n    <tr>\n      <th>1275</th>\n      <td>9</td>\n      <td>2021-12-29 15:57:00</td>\n    </tr>\n    <tr>\n      <th>1276</th>\n      <td>9</td>\n      <td>2021-12-29 16:07:00</td>\n    </tr>\n    <tr>\n      <th>1277</th>\n      <td>9</td>\n      <td>2021-12-29 16:17:00</td>\n    </tr>\n  </tbody>\n</table>\n<p>1278 rows × 2 columns</p>\n</div>"
     },
     "execution_count": 26,
     "metadata": {},
     "output_type": "execute_result"
    }
   ],
   "source": [
    "m1_pre_ts"
   ]
  },
  {
   "cell_type": "code",
   "execution_count": 27,
   "id": "235e4073",
   "metadata": {
    "ExecuteTime": {
     "start_time": "2023-05-28T11:30:39.331971Z",
     "end_time": "2023-05-28T11:30:39.410109Z"
    }
   },
   "outputs": [
    {
     "name": "stdout",
     "output_type": "stream",
     "text": [
      "1946\n"
     ]
    }
   ],
   "source": [
    "m1_pre_m1_ts = m1_ts.shape[0] + m1_pre_ts.shape[0]\n",
    "print(m1_pre_m1_ts)"
   ]
  },
  {
   "cell_type": "code",
   "execution_count": 28,
   "id": "599477ef",
   "metadata": {
    "ExecuteTime": {
     "start_time": "2023-05-28T11:30:39.347609Z",
     "end_time": "2023-05-28T11:30:39.457397Z"
    }
   },
   "outputs": [],
   "source": [
    "m1_pre_ts.to_csv('output/m1_pre_ts.csv')"
   ]
  },
  {
   "cell_type": "code",
   "execution_count": 29,
   "id": "bf5c0d04",
   "metadata": {
    "ExecuteTime": {
     "start_time": "2023-05-28T11:30:39.363235Z",
     "end_time": "2023-05-28T11:30:39.473020Z"
    }
   },
   "outputs": [
    {
     "name": "stdout",
     "output_type": "stream",
     "text": [
      "54.05555555555555 часов на блок\n",
      "324.3333333333333 тайм-слотов на блок\n"
     ]
    }
   ],
   "source": [
    "print(m1_pre_m1_ts/6/6, 'часов на блок')\n",
    "print(m1_pre_m1_ts/6, 'тайм-слотов на блок')\n"
   ]
  },
  {
   "cell_type": "code",
   "execution_count": 30,
   "id": "8bae1c9d",
   "metadata": {
    "ExecuteTime": {
     "start_time": "2023-05-28T11:30:39.378863Z",
     "end_time": "2023-05-28T11:30:42.983504Z"
    }
   },
   "outputs": [],
   "source": [
    "m1_no_ts = pd.DataFrame(columns=mess.columns[0:2])\n",
    "\n",
    "no_ts_n = 4 * 6 # 2 часа == 12 тайм-слотов\n",
    "ind_m1_no = 0\n",
    "\n",
    "\n",
    "for date_no_m1 in mess.m1_no_begin:\n",
    "    if date_no_m1 != 0:\n",
    "        for ind in range(no_ts_n):\n",
    "            for N in range(4,10):\n",
    "\n",
    "                m1_no_ts.loc[ind_m1_no, 'N'] = N\n",
    "                m1_no_ts.loc[ind_m1_no, 'begin'] = date_no_m1 + td * ind\n",
    "                ind_m1_no += 1"
   ]
  },
  {
   "cell_type": "code",
   "execution_count": 31,
   "id": "7f3624be",
   "metadata": {
    "ExecuteTime": {
     "start_time": "2023-05-28T11:30:42.983504Z",
     "end_time": "2023-05-28T11:30:42.999130Z"
    }
   },
   "outputs": [
    {
     "data": {
      "text/plain": "    N                begin\n0   4  2019-03-20 14:19:20\n1   5  2019-03-20 14:19:20\n2   6  2019-03-20 14:19:20\n3   7  2019-03-20 14:19:20\n4   8  2019-03-20 14:19:20\n5   9  2019-03-20 14:19:20\n6   4  2019-03-20 14:29:20\n7   5  2019-03-20 14:29:20\n8   6  2019-03-20 14:29:20\n9   7  2019-03-20 14:29:20\n10  8  2019-03-20 14:29:20\n11  9  2019-03-20 14:29:20\n12  4  2019-03-20 14:39:20\n13  5  2019-03-20 14:39:20\n14  6  2019-03-20 14:39:20\n15  7  2019-03-20 14:39:20\n16  8  2019-03-20 14:39:20\n17  9  2019-03-20 14:39:20\n18  4  2019-03-20 14:49:20\n19  5  2019-03-20 14:49:20",
      "text/html": "<div>\n<style scoped>\n    .dataframe tbody tr th:only-of-type {\n        vertical-align: middle;\n    }\n\n    .dataframe tbody tr th {\n        vertical-align: top;\n    }\n\n    .dataframe thead th {\n        text-align: right;\n    }\n</style>\n<table border=\"1\" class=\"dataframe\">\n  <thead>\n    <tr style=\"text-align: right;\">\n      <th></th>\n      <th>N</th>\n      <th>begin</th>\n    </tr>\n  </thead>\n  <tbody>\n    <tr>\n      <th>0</th>\n      <td>4</td>\n      <td>2019-03-20 14:19:20</td>\n    </tr>\n    <tr>\n      <th>1</th>\n      <td>5</td>\n      <td>2019-03-20 14:19:20</td>\n    </tr>\n    <tr>\n      <th>2</th>\n      <td>6</td>\n      <td>2019-03-20 14:19:20</td>\n    </tr>\n    <tr>\n      <th>3</th>\n      <td>7</td>\n      <td>2019-03-20 14:19:20</td>\n    </tr>\n    <tr>\n      <th>4</th>\n      <td>8</td>\n      <td>2019-03-20 14:19:20</td>\n    </tr>\n    <tr>\n      <th>5</th>\n      <td>9</td>\n      <td>2019-03-20 14:19:20</td>\n    </tr>\n    <tr>\n      <th>6</th>\n      <td>4</td>\n      <td>2019-03-20 14:29:20</td>\n    </tr>\n    <tr>\n      <th>7</th>\n      <td>5</td>\n      <td>2019-03-20 14:29:20</td>\n    </tr>\n    <tr>\n      <th>8</th>\n      <td>6</td>\n      <td>2019-03-20 14:29:20</td>\n    </tr>\n    <tr>\n      <th>9</th>\n      <td>7</td>\n      <td>2019-03-20 14:29:20</td>\n    </tr>\n    <tr>\n      <th>10</th>\n      <td>8</td>\n      <td>2019-03-20 14:29:20</td>\n    </tr>\n    <tr>\n      <th>11</th>\n      <td>9</td>\n      <td>2019-03-20 14:29:20</td>\n    </tr>\n    <tr>\n      <th>12</th>\n      <td>4</td>\n      <td>2019-03-20 14:39:20</td>\n    </tr>\n    <tr>\n      <th>13</th>\n      <td>5</td>\n      <td>2019-03-20 14:39:20</td>\n    </tr>\n    <tr>\n      <th>14</th>\n      <td>6</td>\n      <td>2019-03-20 14:39:20</td>\n    </tr>\n    <tr>\n      <th>15</th>\n      <td>7</td>\n      <td>2019-03-20 14:39:20</td>\n    </tr>\n    <tr>\n      <th>16</th>\n      <td>8</td>\n      <td>2019-03-20 14:39:20</td>\n    </tr>\n    <tr>\n      <th>17</th>\n      <td>9</td>\n      <td>2019-03-20 14:39:20</td>\n    </tr>\n    <tr>\n      <th>18</th>\n      <td>4</td>\n      <td>2019-03-20 14:49:20</td>\n    </tr>\n    <tr>\n      <th>19</th>\n      <td>5</td>\n      <td>2019-03-20 14:49:20</td>\n    </tr>\n  </tbody>\n</table>\n</div>"
     },
     "execution_count": 31,
     "metadata": {},
     "output_type": "execute_result"
    }
   ],
   "source": [
    "m1_no_ts.head(20)"
   ]
  },
  {
   "cell_type": "code",
   "execution_count": 32,
   "id": "c70ddafb",
   "metadata": {
    "ExecuteTime": {
     "start_time": "2023-05-28T11:30:42.999130Z",
     "end_time": "2023-05-28T11:30:43.046417Z"
    }
   },
   "outputs": [
    {
     "data": {
      "text/plain": "(7920, 2)"
     },
     "execution_count": 32,
     "metadata": {},
     "output_type": "execute_result"
    }
   ],
   "source": [
    "m1_no_ts.shape"
   ]
  },
  {
   "cell_type": "code",
   "execution_count": 33,
   "id": "0adad68b",
   "metadata": {
    "ExecuteTime": {
     "start_time": "2023-05-28T11:30:43.014756Z",
     "end_time": "2023-05-28T11:30:43.108918Z"
    }
   },
   "outputs": [],
   "source": [
    "m1_no_ts.to_csv('output/m1_no_ts.csv')"
   ]
  },
  {
   "cell_type": "code",
   "execution_count": 34,
   "id": "8af66470",
   "metadata": {
    "ExecuteTime": {
     "start_time": "2023-05-28T11:30:43.062047Z",
     "end_time": "2023-05-28T11:30:43.171827Z"
    }
   },
   "outputs": [
    {
     "name": "stdout",
     "output_type": "stream",
     "text": [
      "(189, 5)\n"
     ]
    }
   ],
   "source": [
    "test_int = pd.read_excel('test_intervals.xlsx')\n",
    "print(test_int.shape)"
   ]
  },
  {
   "cell_type": "code",
   "execution_count": 35,
   "id": "89614c9d",
   "metadata": {
    "ExecuteTime": {
     "start_time": "2023-05-28T11:30:43.108918Z",
     "end_time": "2023-05-28T11:30:43.171827Z"
    }
   },
   "outputs": [],
   "source": [
    "c = test_int.columns\n",
    "test_int.drop(columns=c[0], inplace=True)\n",
    "test_int.drop(columns=c[2:5], inplace=True)"
   ]
  },
  {
   "cell_type": "code",
   "execution_count": 36,
   "id": "f4d15c05",
   "metadata": {
    "ExecuteTime": {
     "start_time": "2023-05-28T11:30:43.156204Z",
     "end_time": "2023-05-28T11:30:43.171827Z"
    }
   },
   "outputs": [],
   "source": [
    "test_int.start = test_int.start.apply(lambda t: t.floor('10S'))"
   ]
  },
  {
   "cell_type": "code",
   "execution_count": 37,
   "id": "20a9f5be",
   "metadata": {
    "ExecuteTime": {
     "start_time": "2023-05-28T11:30:43.171827Z",
     "end_time": "2023-05-28T11:30:43.218704Z"
    }
   },
   "outputs": [
    {
     "data": {
      "text/plain": "                  start\n0   2022-01-01 10:54:50\n1   2022-01-02 12:26:40\n2   2022-01-04 12:06:00\n3   2022-01-04 20:13:50\n4   2022-01-07 09:05:10\n..                  ...\n184 2023-04-07 15:36:40\n185 2023-04-09 19:55:40\n186 2023-04-10 18:08:20\n187 2023-04-18 02:28:40\n188 2023-04-20 16:41:50\n\n[189 rows x 1 columns]",
      "text/html": "<div>\n<style scoped>\n    .dataframe tbody tr th:only-of-type {\n        vertical-align: middle;\n    }\n\n    .dataframe tbody tr th {\n        vertical-align: top;\n    }\n\n    .dataframe thead th {\n        text-align: right;\n    }\n</style>\n<table border=\"1\" class=\"dataframe\">\n  <thead>\n    <tr style=\"text-align: right;\">\n      <th></th>\n      <th>start</th>\n    </tr>\n  </thead>\n  <tbody>\n    <tr>\n      <th>0</th>\n      <td>2022-01-01 10:54:50</td>\n    </tr>\n    <tr>\n      <th>1</th>\n      <td>2022-01-02 12:26:40</td>\n    </tr>\n    <tr>\n      <th>2</th>\n      <td>2022-01-04 12:06:00</td>\n    </tr>\n    <tr>\n      <th>3</th>\n      <td>2022-01-04 20:13:50</td>\n    </tr>\n    <tr>\n      <th>4</th>\n      <td>2022-01-07 09:05:10</td>\n    </tr>\n    <tr>\n      <th>...</th>\n      <td>...</td>\n    </tr>\n    <tr>\n      <th>184</th>\n      <td>2023-04-07 15:36:40</td>\n    </tr>\n    <tr>\n      <th>185</th>\n      <td>2023-04-09 19:55:40</td>\n    </tr>\n    <tr>\n      <th>186</th>\n      <td>2023-04-10 18:08:20</td>\n    </tr>\n    <tr>\n      <th>187</th>\n      <td>2023-04-18 02:28:40</td>\n    </tr>\n    <tr>\n      <th>188</th>\n      <td>2023-04-20 16:41:50</td>\n    </tr>\n  </tbody>\n</table>\n<p>189 rows × 1 columns</p>\n</div>"
     },
     "execution_count": 37,
     "metadata": {},
     "output_type": "execute_result"
    }
   ],
   "source": [
    "test_int"
   ]
  },
  {
   "cell_type": "code",
   "execution_count": 38,
   "id": "05206f01",
   "metadata": {
    "ExecuteTime": {
     "start_time": "2023-05-28T11:30:43.187454Z",
     "end_time": "2023-05-28T11:30:43.250365Z"
    }
   },
   "outputs": [],
   "source": [
    "test_int.drop(index=[186,187,188], inplace=True)"
   ]
  },
  {
   "cell_type": "code",
   "execution_count": 39,
   "id": "bf49ffd7",
   "metadata": {
    "ExecuteTime": {
     "start_time": "2023-05-28T11:30:43.203078Z",
     "end_time": "2023-05-28T11:30:54.702617Z"
    }
   },
   "outputs": [],
   "source": [
    "test_ts = pd.DataFrame(columns=mess.columns[0:2])\n",
    "\n",
    "ind_test_ts = 0\n",
    "\n",
    "test_ts_n = 3 * 6 # 3 часа == 18 тайм-слотов\n",
    "\n",
    "for N in range(4,10):\n",
    "    for ind_test_int in test_int.index:\n",
    "\n",
    "        begin = test_int.start[ind_test_int] - td * test_ts_n\n",
    "\n",
    "        for slot_n in range(test_ts_n):\n",
    "            test_ts.loc[ind_test_ts,'N'] = N\n",
    "            test_ts.loc[ind_test_ts,'begin'] = begin\n",
    "            begin += td\n",
    "            ind_test_ts += 1"
   ]
  },
  {
   "cell_type": "code",
   "execution_count": 40,
   "id": "4c03cd6b",
   "metadata": {
    "ExecuteTime": {
     "start_time": "2023-05-28T11:30:54.702617Z",
     "end_time": "2023-05-28T11:30:54.718242Z"
    }
   },
   "outputs": [
    {
     "data": {
      "text/plain": "    N                begin\n0   4  2022-01-01 07:54:50\n1   4  2022-01-01 08:04:50\n2   4  2022-01-01 08:14:50\n3   4  2022-01-01 08:24:50\n4   4  2022-01-01 08:34:50\n5   4  2022-01-01 08:44:50\n6   4  2022-01-01 08:54:50\n7   4  2022-01-01 09:04:50\n8   4  2022-01-01 09:14:50\n9   4  2022-01-01 09:24:50\n10  4  2022-01-01 09:34:50\n11  4  2022-01-01 09:44:50\n12  4  2022-01-01 09:54:50\n13  4  2022-01-01 10:04:50\n14  4  2022-01-01 10:14:50\n15  4  2022-01-01 10:24:50\n16  4  2022-01-01 10:34:50\n17  4  2022-01-01 10:44:50\n18  4  2022-01-02 09:26:40\n19  4  2022-01-02 09:36:40",
      "text/html": "<div>\n<style scoped>\n    .dataframe tbody tr th:only-of-type {\n        vertical-align: middle;\n    }\n\n    .dataframe tbody tr th {\n        vertical-align: top;\n    }\n\n    .dataframe thead th {\n        text-align: right;\n    }\n</style>\n<table border=\"1\" class=\"dataframe\">\n  <thead>\n    <tr style=\"text-align: right;\">\n      <th></th>\n      <th>N</th>\n      <th>begin</th>\n    </tr>\n  </thead>\n  <tbody>\n    <tr>\n      <th>0</th>\n      <td>4</td>\n      <td>2022-01-01 07:54:50</td>\n    </tr>\n    <tr>\n      <th>1</th>\n      <td>4</td>\n      <td>2022-01-01 08:04:50</td>\n    </tr>\n    <tr>\n      <th>2</th>\n      <td>4</td>\n      <td>2022-01-01 08:14:50</td>\n    </tr>\n    <tr>\n      <th>3</th>\n      <td>4</td>\n      <td>2022-01-01 08:24:50</td>\n    </tr>\n    <tr>\n      <th>4</th>\n      <td>4</td>\n      <td>2022-01-01 08:34:50</td>\n    </tr>\n    <tr>\n      <th>5</th>\n      <td>4</td>\n      <td>2022-01-01 08:44:50</td>\n    </tr>\n    <tr>\n      <th>6</th>\n      <td>4</td>\n      <td>2022-01-01 08:54:50</td>\n    </tr>\n    <tr>\n      <th>7</th>\n      <td>4</td>\n      <td>2022-01-01 09:04:50</td>\n    </tr>\n    <tr>\n      <th>8</th>\n      <td>4</td>\n      <td>2022-01-01 09:14:50</td>\n    </tr>\n    <tr>\n      <th>9</th>\n      <td>4</td>\n      <td>2022-01-01 09:24:50</td>\n    </tr>\n    <tr>\n      <th>10</th>\n      <td>4</td>\n      <td>2022-01-01 09:34:50</td>\n    </tr>\n    <tr>\n      <th>11</th>\n      <td>4</td>\n      <td>2022-01-01 09:44:50</td>\n    </tr>\n    <tr>\n      <th>12</th>\n      <td>4</td>\n      <td>2022-01-01 09:54:50</td>\n    </tr>\n    <tr>\n      <th>13</th>\n      <td>4</td>\n      <td>2022-01-01 10:04:50</td>\n    </tr>\n    <tr>\n      <th>14</th>\n      <td>4</td>\n      <td>2022-01-01 10:14:50</td>\n    </tr>\n    <tr>\n      <th>15</th>\n      <td>4</td>\n      <td>2022-01-01 10:24:50</td>\n    </tr>\n    <tr>\n      <th>16</th>\n      <td>4</td>\n      <td>2022-01-01 10:34:50</td>\n    </tr>\n    <tr>\n      <th>17</th>\n      <td>4</td>\n      <td>2022-01-01 10:44:50</td>\n    </tr>\n    <tr>\n      <th>18</th>\n      <td>4</td>\n      <td>2022-01-02 09:26:40</td>\n    </tr>\n    <tr>\n      <th>19</th>\n      <td>4</td>\n      <td>2022-01-02 09:36:40</td>\n    </tr>\n  </tbody>\n</table>\n</div>"
     },
     "execution_count": 40,
     "metadata": {},
     "output_type": "execute_result"
    }
   ],
   "source": [
    "test_ts.head(20)"
   ]
  },
  {
   "cell_type": "code",
   "execution_count": 41,
   "id": "db4e9957",
   "metadata": {
    "ExecuteTime": {
     "start_time": "2023-05-28T11:30:54.718242Z",
     "end_time": "2023-05-28T11:30:54.847163Z"
    }
   },
   "outputs": [],
   "source": [
    "test_ts.to_csv('output/test_ts.csv')"
   ]
  },
  {
   "cell_type": "code",
   "execution_count": 42,
   "id": "383ae3e2",
   "metadata": {
    "ExecuteTime": {
     "start_time": "2023-05-28T11:30:54.847163Z",
     "end_time": "2023-05-28T11:32:59.782749Z"
    }
   },
   "outputs": [],
   "source": [
    "pd.read_parquet('X_train.parquet').interpolate().to_parquet('output/X_train_interpol.parquet')"
   ]
  },
  {
   "cell_type": "code",
   "execution_count": 43,
   "id": "2e71bcf2",
   "metadata": {
    "ExecuteTime": {
     "start_time": "2023-05-28T11:32:59.814404Z",
     "end_time": "2023-05-28T11:33:53.221864Z"
    }
   },
   "outputs": [],
   "source": [
    "pd.read_parquet('X_test.parquet').interpolate().to_parquet('output/X_test_interpol.parquet')"
   ]
  },
  {
   "cell_type": "code",
   "execution_count": 44,
   "id": "a58649bc",
   "metadata": {
    "ExecuteTime": {
     "start_time": "2023-05-28T11:33:53.221864Z",
     "end_time": "2023-05-28T11:33:53.237493Z"
    }
   },
   "outputs": [],
   "source": [
    "def get_chunk_x_from_file(filename, time_stamp, exh_n):\n",
    "    \n",
    "    col1 = (exh_n - 4)*16\n",
    "    col2 = col1 + 16\n",
    "    \n",
    "    chunk = pd.read_parquet(filename).loc[time_stamp:time_stamp + td,:].iloc[:,col1:col2]\n",
    "    #chunk.drop(index=chunk.index[-1], inplace=True)\n",
    "    \n",
    "    #new_col_labels = ['c1', 'c2', 'c3', 'p1', 't1', 't2', 't3', 't4', 'u1', 'u2', 'v1', 'v2', 'v3', 'v4', 'v5', 'v6']\n",
    "\n",
    "    #suffix = '_' + str(exh_n)\n",
    "\n",
    "    #new_col_labels = [L + suffix for L in new_col_labels]\n",
    "\n",
    "    #col_dict = dict(zip(chunk.columns, new_col_labels))\n",
    "    #chunk.rename(mapper=col_dict, axis=1, inplace=True)\n",
    "\n",
    "    return chunk.to_numpy()"
   ]
  },
  {
   "cell_type": "code",
   "execution_count": 45,
   "id": "391ecdff",
   "metadata": {
    "ExecuteTime": {
     "start_time": "2023-05-28T11:33:53.237493Z",
     "end_time": "2023-05-28T11:33:53.268742Z"
    }
   },
   "outputs": [],
   "source": [
    "def get_chunk_x_from_mem(df, time_stamp, exh_n):\n",
    "    \n",
    "    col1 = (exh_n - 4)*16\n",
    "    col2 = col1 + 16\n",
    "    \n",
    "    chunk = df.loc[time_stamp:time_stamp + td,:].iloc[:,col1:col2]\n",
    "    #chunk.drop(index=chunk.index[-1], inplace=True)\n",
    "    \n",
    "    #new_col_labels = ['c1', 'c2', 'c3', 'p1', 't1', 't2', 't3', 't4', 'u1', 'u2', 'v1', 'v2', 'v3', 'v4', 'v5', 'v6']\n",
    "\n",
    "    #suffix = '_' + str(exh_n)\n",
    "\n",
    "    #new_col_labels = [L + suffix for L in new_col_labels]\n",
    "\n",
    "    #col_dict = dict(zip(chunk.columns, new_col_labels))\n",
    "    #chunk.rename(mapper=col_dict, axis=1, inplace=True)\n",
    "\n",
    "    return chunk.to_numpy()"
   ]
  },
  {
   "cell_type": "code",
   "execution_count": 46,
   "id": "eb22fd7b",
   "metadata": {
    "ExecuteTime": {
     "start_time": "2023-05-28T11:33:53.268742Z",
     "end_time": "2023-05-28T11:33:53.290884Z"
    }
   },
   "outputs": [],
   "source": [
    "def plot_loss(history):\n",
    "    plt.plot(history.history['loss'], label='loss')\n",
    "    \n",
    "    try:\n",
    "        plt.plot(history.history['val_loss'], label='val_loss')\n",
    "    except:\n",
    "        print('No validation data')\n",
    "\n",
    "    plt.xlabel('Эпоха')\n",
    "    plt.ylabel('Потери')\n",
    "    plt.legend()\n",
    "    plt.grid(True)"
   ]
  },
  {
   "cell_type": "code",
   "execution_count": 47,
   "id": "80e42074",
   "metadata": {
    "ExecuteTime": {
     "start_time": "2023-05-28T11:33:53.290884Z",
     "end_time": "2023-05-28T11:34:06.820940Z"
    }
   },
   "outputs": [],
   "source": [
    "X_train_interpol = pd.read_parquet('output/X_train_interpol.parquet')\n",
    "X_test_interpol = pd.read_parquet('output/X_test_interpol.parquet')"
   ]
  },
  {
   "cell_type": "code",
   "execution_count": 48,
   "id": "dc28c9f9",
   "metadata": {
    "ExecuteTime": {
     "start_time": "2023-05-28T11:34:06.836576Z",
     "end_time": "2023-05-28T11:34:10.083004Z"
    }
   },
   "outputs": [],
   "source": [
    "x_train = []\n",
    "y_train = []  # 3 класса: 1=M1, 2=pre-M1, 0=остальное\n",
    "\n",
    "for ind in m1_ts.index:\n",
    "    x_train.append(get_chunk_x_from_mem(X_train_interpol, m1_ts.begin[ind], m1_ts.N[ind]))\n",
    "    y_train.append(np.array([0,1,0]))\n",
    "    \n",
    "for ind in m1_pre_ts.index:\n",
    "    x_train.append(get_chunk_x_from_mem(X_train_interpol, m1_pre_ts.begin[ind], m1_pre_ts.N[ind]))\n",
    "    y_train.append(np.array([0,0,1]))\n",
    "\n",
    "for ind in m1_no_ts.index:\n",
    "    x_train.append(get_chunk_x_from_mem(X_train_interpol, m1_no_ts.begin[ind], m1_no_ts.N[ind]))\n",
    "    y_train.append(np.array([1,0,0]))\n",
    "    \n",
    "x_train = np.array(x_train)\n",
    "y_train = np.array(y_train)"
   ]
  },
  {
   "cell_type": "code",
   "execution_count": 49,
   "id": "e8ee077c",
   "metadata": {
    "ExecuteTime": {
     "start_time": "2023-05-28T11:34:10.083004Z",
     "end_time": "2023-05-28T11:34:10.098629Z"
    }
   },
   "outputs": [
    {
     "name": "stdout",
     "output_type": "stream",
     "text": [
      "(9866, 61, 16)\n",
      "(9866, 3)\n"
     ]
    }
   ],
   "source": [
    "print(x_train.shape)\n",
    "print(y_train.shape)"
   ]
  },
  {
   "cell_type": "code",
   "execution_count": 50,
   "id": "85cb78d7",
   "metadata": {
    "ExecuteTime": {
     "start_time": "2023-05-28T11:34:10.098629Z",
     "end_time": "2023-05-28T11:34:15.573568Z"
    }
   },
   "outputs": [
    {
     "name": "stdout",
     "output_type": "stream",
     "text": [
      "20087\n"
     ]
    }
   ],
   "source": [
    "x_test = []\n",
    "\n",
    "for ind in test_ts.index:\n",
    "    x_test.append(get_chunk_x_from_mem(X_test_interpol, test_ts.begin[ind], test_ts.N[ind]))\n",
    "\n",
    "print(ind)\n",
    "x_test = np.array(x_test)"
   ]
  },
  {
   "cell_type": "code",
   "execution_count": 51,
   "id": "b81fd28b",
   "metadata": {
    "ExecuteTime": {
     "start_time": "2023-05-28T11:34:15.573568Z",
     "end_time": "2023-05-28T11:34:15.620438Z"
    }
   },
   "outputs": [],
   "source": [
    "mms = MinMaxScaler()"
   ]
  },
  {
   "cell_type": "code",
   "execution_count": 52,
   "id": "034847a0",
   "metadata": {
    "ExecuteTime": {
     "start_time": "2023-05-28T11:34:15.589190Z",
     "end_time": "2023-05-28T11:34:15.797019Z"
    }
   },
   "outputs": [],
   "source": [
    "x_train = mms.fit_transform(x_train.reshape(-1,16)).reshape(-1,61,16)"
   ]
  },
  {
   "cell_type": "code",
   "execution_count": 53,
   "id": "a5c3b4dc",
   "metadata": {
    "ExecuteTime": {
     "start_time": "2023-05-28T11:34:15.797019Z",
     "end_time": "2023-05-28T11:34:15.954118Z"
    }
   },
   "outputs": [],
   "source": [
    "x_test = mms.transform(x_test.reshape(-1,16)).reshape(-1,61,16)"
   ]
  },
  {
   "cell_type": "code",
   "execution_count": 54,
   "id": "d94a7e24",
   "metadata": {
    "ExecuteTime": {
     "start_time": "2023-05-28T11:34:15.954118Z",
     "end_time": "2023-05-28T11:34:16.032241Z"
    }
   },
   "outputs": [],
   "source": [
    "x_train, x_val, y_train, y_val = train_test_split(x_train, y_train, test_size=0.15, random_state=17)"
   ]
  },
  {
   "cell_type": "markdown",
   "source": [
    "model_m = Sequential()\n",
    "model_m.add(Conv1D(80, 6, activation='relu', input_shape=(61, 16)))\n",
    "model_m.add(Conv1D(80, 6, activation='relu'))\n",
    "model_m.add(MaxPooling1D(3))\n",
    "#model_m.add(Conv1D(160, 6, activation='relu'))\n",
    "model_m.add(Conv1D(160, 6, activation='relu'))\n",
    "model_m.add(GlobalAveragePooling1D(name='G_A_P_1D'))\n",
    "model_m.add(Dropout(0.3))\n",
    "model_m.add(Dense(170, activation='relu'))\n",
    "model_m.add(Dense(3, activation='softmax'))\n",
    "print(model_m.summary())"
   ],
   "metadata": {
    "collapsed": false
   }
  },
  {
   "cell_type": "markdown",
   "source": [
    "model_m.compile(loss='categorical_crossentropy', optimizer='adam', metrics=['accuracy'])"
   ],
   "metadata": {
    "collapsed": false
   }
  },
  {
   "cell_type": "markdown",
   "source": [
    "history = model_m.fit(x_train, y_train, batch_size=10, epochs=160, validation_data=(x_val, y_val), verbose=2)"
   ],
   "metadata": {
    "collapsed": false
   }
  },
  {
   "cell_type": "code",
   "execution_count": 55,
   "outputs": [
    {
     "name": "stdout",
     "output_type": "stream",
     "text": [
      "Model: \"sequential\"\n",
      "_________________________________________________________________\n",
      " Layer (type)                Output Shape              Param #   \n",
      "=================================================================\n",
      " conv1d (Conv1D)             (None, 56, 80)            7760      \n",
      "                                                                 \n",
      " conv1d_1 (Conv1D)           (None, 51, 80)            38480     \n",
      "                                                                 \n",
      " max_pooling1d (MaxPooling1D  (None, 17, 80)           0         \n",
      " )                                                               \n",
      "                                                                 \n",
      " conv1d_2 (Conv1D)           (None, 12, 160)           76960     \n",
      "                                                                 \n",
      " conv1d_3 (Conv1D)           (None, 7, 160)            153760    \n",
      "                                                                 \n",
      " G_A_P_1D (GlobalAveragePool  (None, 160)              0         \n",
      " ing1D)                                                          \n",
      "                                                                 \n",
      " dropout (Dropout)           (None, 160)               0         \n",
      "                                                                 \n",
      " dense (Dense)               (None, 170)               27370     \n",
      "                                                                 \n",
      " dense_1 (Dense)             (None, 3)                 513       \n",
      "                                                                 \n",
      "=================================================================\n",
      "Total params: 304,843\n",
      "Trainable params: 304,843\n",
      "Non-trainable params: 0\n",
      "_________________________________________________________________\n",
      "None\n"
     ]
    }
   ],
   "source": [
    "model_m = Sequential()\n",
    "model_m.add(Conv1D(80, 6, activation='relu', input_shape=(61, 16), kernel_regularizer=regularizers.l2(0.01)))\n",
    "model_m.add(Conv1D(80, 6, activation='relu', kernel_regularizer=regularizers.l2(0.01)))\n",
    "model_m.add(MaxPooling1D(3))\n",
    "model_m.add(Conv1D(160, 6, activation='relu', kernel_regularizer=regularizers.l2(0.01)))\n",
    "model_m.add(Conv1D(160, 6, activation='relu', kernel_regularizer=regularizers.l2(0.01)))\n",
    "model_m.add(GlobalAveragePooling1D(name='G_A_P_1D'))\n",
    "model_m.add(Dropout(0.3))\n",
    "model_m.add(Dense(170, activation='relu', kernel_regularizer=regularizers.l2(0.01)))\n",
    "model_m.add(Dense(3, activation='softmax'))\n",
    "print(model_m.summary())"
   ],
   "metadata": {
    "collapsed": false,
    "ExecuteTime": {
     "start_time": "2023-05-28T11:34:16.048264Z",
     "end_time": "2023-05-28T11:34:18.739858Z"
    }
   }
  },
  {
   "cell_type": "code",
   "execution_count": 56,
   "outputs": [],
   "source": [
    "model_m.compile(loss='categorical_crossentropy', optimizer='adam', metrics=['accuracy'])"
   ],
   "metadata": {
    "collapsed": false,
    "ExecuteTime": {
     "start_time": "2023-05-28T11:34:18.692984Z",
     "end_time": "2023-05-28T11:34:18.739858Z"
    }
   }
  },
  {
   "cell_type": "code",
   "execution_count": 57,
   "outputs": [],
   "source": [
    "early_stopping = EarlyStopping(monitor='val_loss', patience=10)"
   ],
   "metadata": {
    "collapsed": false,
    "ExecuteTime": {
     "start_time": "2023-05-28T11:34:18.724234Z",
     "end_time": "2023-05-28T11:34:18.755881Z"
    }
   }
  },
  {
   "cell_type": "code",
   "execution_count": 58,
   "outputs": [
    {
     "name": "stdout",
     "output_type": "stream",
     "text": [
      "Epoch 1/160\n",
      "839/839 - 13s - loss: 0.9597 - accuracy: 0.8019 - val_loss: 0.6298 - val_accuracy: 0.8047 - 13s/epoch - 15ms/step\n",
      "Epoch 2/160\n",
      "839/839 - 8s - loss: 0.6226 - accuracy: 0.8024 - val_loss: 0.6871 - val_accuracy: 0.8047 - 8s/epoch - 9ms/step\n",
      "Epoch 3/160\n",
      "839/839 - 7s - loss: 0.6128 - accuracy: 0.8024 - val_loss: 0.6083 - val_accuracy: 0.8047 - 7s/epoch - 9ms/step\n",
      "Epoch 4/160\n",
      "839/839 - 7s - loss: 0.6051 - accuracy: 0.8024 - val_loss: 0.6116 - val_accuracy: 0.8047 - 7s/epoch - 8ms/step\n",
      "Epoch 5/160\n",
      "839/839 - 7s - loss: 0.5967 - accuracy: 0.8024 - val_loss: 0.5918 - val_accuracy: 0.8047 - 7s/epoch - 8ms/step\n",
      "Epoch 6/160\n",
      "839/839 - 7s - loss: 0.5892 - accuracy: 0.8043 - val_loss: 0.5873 - val_accuracy: 0.8128 - 7s/epoch - 9ms/step\n",
      "Epoch 7/160\n",
      "839/839 - 7s - loss: 0.5787 - accuracy: 0.8067 - val_loss: 0.5637 - val_accuracy: 0.8122 - 7s/epoch - 9ms/step\n",
      "Epoch 8/160\n",
      "839/839 - 7s - loss: 0.5715 - accuracy: 0.8073 - val_loss: 0.5675 - val_accuracy: 0.8047 - 7s/epoch - 9ms/step\n",
      "Epoch 9/160\n",
      "839/839 - 7s - loss: 0.5651 - accuracy: 0.8060 - val_loss: 0.5750 - val_accuracy: 0.8135 - 7s/epoch - 9ms/step\n",
      "Epoch 10/160\n",
      "839/839 - 8s - loss: 0.5602 - accuracy: 0.8086 - val_loss: 0.5497 - val_accuracy: 0.8176 - 8s/epoch - 9ms/step\n",
      "Epoch 11/160\n",
      "839/839 - 7s - loss: 0.5601 - accuracy: 0.8097 - val_loss: 0.5589 - val_accuracy: 0.8054 - 7s/epoch - 9ms/step\n",
      "Epoch 12/160\n",
      "839/839 - 7s - loss: 0.5613 - accuracy: 0.8090 - val_loss: 0.5453 - val_accuracy: 0.8142 - 7s/epoch - 8ms/step\n",
      "Epoch 13/160\n",
      "839/839 - 7s - loss: 0.5607 - accuracy: 0.8061 - val_loss: 0.5521 - val_accuracy: 0.8122 - 7s/epoch - 8ms/step\n",
      "Epoch 14/160\n",
      "839/839 - 7s - loss: 0.5535 - accuracy: 0.8106 - val_loss: 0.5506 - val_accuracy: 0.8142 - 7s/epoch - 9ms/step\n",
      "Epoch 15/160\n",
      "839/839 - 7s - loss: 0.5559 - accuracy: 0.8079 - val_loss: 0.6177 - val_accuracy: 0.7885 - 7s/epoch - 9ms/step\n",
      "Epoch 16/160\n",
      "839/839 - 7s - loss: 0.5553 - accuracy: 0.8088 - val_loss: 0.5681 - val_accuracy: 0.8149 - 7s/epoch - 8ms/step\n",
      "Epoch 17/160\n",
      "839/839 - 7s - loss: 0.5544 - accuracy: 0.8091 - val_loss: 0.5650 - val_accuracy: 0.8074 - 7s/epoch - 9ms/step\n",
      "Epoch 18/160\n",
      "839/839 - 7s - loss: 0.5564 - accuracy: 0.8079 - val_loss: 0.5477 - val_accuracy: 0.8149 - 7s/epoch - 9ms/step\n",
      "Epoch 19/160\n",
      "839/839 - 7s - loss: 0.5545 - accuracy: 0.8086 - val_loss: 0.5555 - val_accuracy: 0.8115 - 7s/epoch - 9ms/step\n",
      "Epoch 20/160\n",
      "839/839 - 7s - loss: 0.5567 - accuracy: 0.8084 - val_loss: 0.5441 - val_accuracy: 0.8149 - 7s/epoch - 9ms/step\n",
      "Epoch 21/160\n",
      "839/839 - 7s - loss: 0.5527 - accuracy: 0.8109 - val_loss: 0.5561 - val_accuracy: 0.8108 - 7s/epoch - 9ms/step\n",
      "Epoch 22/160\n",
      "839/839 - 7s - loss: 0.5503 - accuracy: 0.8098 - val_loss: 0.5466 - val_accuracy: 0.8088 - 7s/epoch - 9ms/step\n",
      "Epoch 23/160\n",
      "839/839 - 7s - loss: 0.5507 - accuracy: 0.8084 - val_loss: 0.5655 - val_accuracy: 0.8061 - 7s/epoch - 9ms/step\n",
      "Epoch 24/160\n",
      "839/839 - 7s - loss: 0.5510 - accuracy: 0.8108 - val_loss: 0.5590 - val_accuracy: 0.8061 - 7s/epoch - 9ms/step\n",
      "Epoch 25/160\n",
      "839/839 - 8s - loss: 0.5512 - accuracy: 0.8111 - val_loss: 0.5446 - val_accuracy: 0.8061 - 8s/epoch - 9ms/step\n",
      "Epoch 26/160\n",
      "839/839 - 8s - loss: 0.5501 - accuracy: 0.8094 - val_loss: 0.5442 - val_accuracy: 0.8155 - 8s/epoch - 9ms/step\n",
      "Epoch 27/160\n",
      "839/839 - 7s - loss: 0.5524 - accuracy: 0.8087 - val_loss: 0.5405 - val_accuracy: 0.8169 - 7s/epoch - 9ms/step\n",
      "Epoch 28/160\n",
      "839/839 - 8s - loss: 0.5497 - accuracy: 0.8071 - val_loss: 0.5491 - val_accuracy: 0.8162 - 8s/epoch - 9ms/step\n",
      "Epoch 29/160\n",
      "839/839 - 7s - loss: 0.5489 - accuracy: 0.8112 - val_loss: 0.5600 - val_accuracy: 0.8155 - 7s/epoch - 9ms/step\n",
      "Epoch 30/160\n",
      "839/839 - 7s - loss: 0.5488 - accuracy: 0.8065 - val_loss: 0.5408 - val_accuracy: 0.8189 - 7s/epoch - 9ms/step\n",
      "Epoch 31/160\n",
      "839/839 - 7s - loss: 0.5493 - accuracy: 0.8057 - val_loss: 0.5540 - val_accuracy: 0.8135 - 7s/epoch - 9ms/step\n",
      "Epoch 32/160\n",
      "839/839 - 7s - loss: 0.5489 - accuracy: 0.8110 - val_loss: 0.5400 - val_accuracy: 0.8162 - 7s/epoch - 9ms/step\n",
      "Epoch 33/160\n",
      "839/839 - 7s - loss: 0.5503 - accuracy: 0.8046 - val_loss: 0.5402 - val_accuracy: 0.8135 - 7s/epoch - 9ms/step\n",
      "Epoch 34/160\n",
      "839/839 - 7s - loss: 0.5477 - accuracy: 0.8085 - val_loss: 0.5415 - val_accuracy: 0.8081 - 7s/epoch - 9ms/step\n",
      "Epoch 35/160\n",
      "839/839 - 7s - loss: 0.5474 - accuracy: 0.8077 - val_loss: 0.5458 - val_accuracy: 0.8074 - 7s/epoch - 9ms/step\n",
      "Epoch 36/160\n",
      "839/839 - 7s - loss: 0.5474 - accuracy: 0.8080 - val_loss: 0.5439 - val_accuracy: 0.8149 - 7s/epoch - 9ms/step\n",
      "Epoch 37/160\n",
      "839/839 - 7s - loss: 0.5445 - accuracy: 0.8104 - val_loss: 0.5372 - val_accuracy: 0.8176 - 7s/epoch - 9ms/step\n",
      "Epoch 38/160\n",
      "839/839 - 7s - loss: 0.5468 - accuracy: 0.8084 - val_loss: 0.5463 - val_accuracy: 0.8149 - 7s/epoch - 9ms/step\n",
      "Epoch 39/160\n",
      "839/839 - 7s - loss: 0.5471 - accuracy: 0.8103 - val_loss: 0.5491 - val_accuracy: 0.8135 - 7s/epoch - 9ms/step\n",
      "Epoch 40/160\n",
      "839/839 - 7s - loss: 0.5479 - accuracy: 0.8103 - val_loss: 0.5484 - val_accuracy: 0.8081 - 7s/epoch - 9ms/step\n",
      "Epoch 41/160\n",
      "839/839 - 7s - loss: 0.5440 - accuracy: 0.8105 - val_loss: 0.5363 - val_accuracy: 0.8209 - 7s/epoch - 9ms/step\n",
      "Epoch 42/160\n",
      "839/839 - 7s - loss: 0.5478 - accuracy: 0.8087 - val_loss: 0.5415 - val_accuracy: 0.8142 - 7s/epoch - 8ms/step\n",
      "Epoch 43/160\n",
      "839/839 - 7s - loss: 0.5433 - accuracy: 0.8098 - val_loss: 0.5809 - val_accuracy: 0.7926 - 7s/epoch - 8ms/step\n",
      "Epoch 44/160\n",
      "839/839 - 7s - loss: 0.5478 - accuracy: 0.8110 - val_loss: 0.5447 - val_accuracy: 0.8101 - 7s/epoch - 9ms/step\n",
      "Epoch 45/160\n",
      "839/839 - 7s - loss: 0.5481 - accuracy: 0.8059 - val_loss: 0.5498 - val_accuracy: 0.8128 - 7s/epoch - 9ms/step\n",
      "Epoch 46/160\n",
      "839/839 - 7s - loss: 0.5466 - accuracy: 0.8078 - val_loss: 0.5382 - val_accuracy: 0.8182 - 7s/epoch - 9ms/step\n",
      "Epoch 47/160\n",
      "839/839 - 7s - loss: 0.5431 - accuracy: 0.8123 - val_loss: 0.5372 - val_accuracy: 0.8095 - 7s/epoch - 9ms/step\n",
      "Epoch 48/160\n",
      "839/839 - 7s - loss: 0.5458 - accuracy: 0.8099 - val_loss: 0.5372 - val_accuracy: 0.8081 - 7s/epoch - 9ms/step\n",
      "Epoch 49/160\n",
      "839/839 - 7s - loss: 0.5472 - accuracy: 0.8063 - val_loss: 0.5420 - val_accuracy: 0.8128 - 7s/epoch - 9ms/step\n",
      "Epoch 50/160\n",
      "839/839 - 7s - loss: 0.5464 - accuracy: 0.8098 - val_loss: 0.5408 - val_accuracy: 0.8122 - 7s/epoch - 9ms/step\n",
      "Epoch 51/160\n",
      "839/839 - 8s - loss: 0.5469 - accuracy: 0.8061 - val_loss: 0.5399 - val_accuracy: 0.8223 - 8s/epoch - 9ms/step\n"
     ]
    }
   ],
   "source": [
    "history = model_m.fit(x_train, y_train, batch_size=10, epochs=160, validation_data=(x_val, y_val), verbose=2, callbacks=[early_stopping])"
   ],
   "metadata": {
    "collapsed": false,
    "ExecuteTime": {
     "start_time": "2023-05-28T11:34:18.742870Z",
     "end_time": "2023-05-28T11:40:38.523729Z"
    }
   }
  },
  {
   "cell_type": "code",
   "execution_count": 59,
   "id": "e3d909d4",
   "metadata": {
    "ExecuteTime": {
     "start_time": "2023-05-28T11:40:38.523729Z",
     "end_time": "2023-05-28T11:40:38.942381Z"
    }
   },
   "outputs": [
    {
     "data": {
      "text/plain": "<Figure size 640x480 with 1 Axes>",
      "image/png": "[encoded data removed]"
     },
     "metadata": {},
     "output_type": "display_data"
    }
   ],
   "source": [
    "plot_loss(history)"
   ]
  },
  {
   "cell_type": "code",
   "execution_count": 60,
   "id": "704e6638",
   "metadata": {
    "ExecuteTime": {
     "start_time": "2023-05-28T11:40:38.942381Z",
     "end_time": "2023-05-28T11:40:41.309232Z"
    }
   },
   "outputs": [
    {
     "name": "stdout",
     "output_type": "stream",
     "text": [
      "628/628 [==============================] - 2s 3ms/step\n"
     ]
    }
   ],
   "source": [
    "pred = model_m.predict(x_test)"
   ]
  },
  {
   "cell_type": "code",
   "execution_count": 61,
   "id": "2fe3b097",
   "metadata": {
    "ExecuteTime": {
     "start_time": "2023-05-28T11:40:41.309232Z",
     "end_time": "2023-05-28T11:40:41.448651Z"
    }
   },
   "outputs": [
    {
     "name": "stdout",
     "output_type": "stream",
     "text": [
      "(20088, 3)\n"
     ]
    },
    {
     "data": {
      "text/plain": "0    19849\n1      225\n2       14\ndtype: int64"
     },
     "execution_count": 61,
     "metadata": {},
     "output_type": "execute_result"
    }
   ],
   "source": [
    "print(pred.shape)\n",
    "\n",
    "predl = []\n",
    "\n",
    "for i in range(pred.shape[0]):\n",
    "    predl.append(np.argmax(pred[i]))\n",
    "    \n",
    "predl = np.array(predl).reshape(-1,18)\n",
    "df = pd.DataFrame(predl.ravel())\n",
    "\n",
    "df.value_counts()"
   ]
  },
  {
   "cell_type": "code",
   "execution_count": 62,
   "id": "2eff383e",
   "metadata": {
    "ExecuteTime": {
     "start_time": "2023-05-28T11:40:41.433015Z",
     "end_time": "2023-05-28T11:40:41.464277Z"
    }
   },
   "outputs": [
    {
     "data": {
      "text/plain": "(1116, 18)"
     },
     "execution_count": 62,
     "metadata": {},
     "output_type": "execute_result"
    }
   ],
   "source": [
    "predl.shape"
   ]
  },
  {
   "cell_type": "code",
   "execution_count": 63,
   "id": "0344eddc",
   "metadata": {
    "ExecuteTime": {
     "start_time": "2023-05-28T11:40:41.448651Z",
     "end_time": "2023-05-28T11:40:41.520108Z"
    }
   },
   "outputs": [],
   "source": [
    "out = []\n",
    "\n",
    "for i in range(predl.shape[0]):\n",
    "    t = 1 if predl[i].sum() > 10 else 0\n",
    "    out.append(t)\n",
    "\n",
    "out = np.array(out).reshape(-1,186).transpose()"
   ]
  },
  {
   "cell_type": "code",
   "execution_count": 64,
   "id": "fae6e8f2",
   "metadata": {
    "ExecuteTime": {
     "start_time": "2023-05-28T11:40:41.464277Z",
     "end_time": "2023-05-28T11:40:41.543152Z"
    }
   },
   "outputs": [],
   "source": [
    "out = pd.DataFrame(out, columns=['Ex4','Ex5','Ex6','Ex7','Ex8','Ex9'])"
   ]
  },
  {
   "cell_type": "code",
   "execution_count": 65,
   "id": "6d5d6d02",
   "metadata": {
    "ExecuteTime": {
     "start_time": "2023-05-28T11:40:41.489459Z",
     "end_time": "2023-05-28T11:40:41.543152Z"
    }
   },
   "outputs": [
    {
     "data": {
      "text/plain": "     Ex4  Ex5  Ex6  Ex7  Ex8  Ex9\n0      0    0    0    0    0    0\n1      0    0    0    0    0    0\n2      0    0    0    0    0    0\n3      0    0    0    0    0    0\n4      0    0    0    0    0    0\n..   ...  ...  ...  ...  ...  ...\n181    0    0    0    0    0    0\n182    0    0    0    0    0    0\n183    0    0    0    0    0    0\n184    0    0    0    0    0    0\n185    0    0    0    0    0    0\n\n[186 rows x 6 columns]",
      "text/html": "<div>\n<style scoped>\n    .dataframe tbody tr th:only-of-type {\n        vertical-align: middle;\n    }\n\n    .dataframe tbody tr th {\n        vertical-align: top;\n    }\n\n    .dataframe thead th {\n        text-align: right;\n    }\n</style>\n<table border=\"1\" class=\"dataframe\">\n  <thead>\n    <tr style=\"text-align: right;\">\n      <th></th>\n      <th>Ex4</th>\n      <th>Ex5</th>\n      <th>Ex6</th>\n      <th>Ex7</th>\n      <th>Ex8</th>\n      <th>Ex9</th>\n    </tr>\n  </thead>\n  <tbody>\n    <tr>\n      <th>0</th>\n      <td>0</td>\n      <td>0</td>\n      <td>0</td>\n      <td>0</td>\n      <td>0</td>\n      <td>0</td>\n    </tr>\n    <tr>\n      <th>1</th>\n      <td>0</td>\n      <td>0</td>\n      <td>0</td>\n      <td>0</td>\n      <td>0</td>\n      <td>0</td>\n    </tr>\n    <tr>\n      <th>2</th>\n      <td>0</td>\n      <td>0</td>\n      <td>0</td>\n      <td>0</td>\n      <td>0</td>\n      <td>0</td>\n    </tr>\n    <tr>\n      <th>3</th>\n      <td>0</td>\n      <td>0</td>\n      <td>0</td>\n      <td>0</td>\n      <td>0</td>\n      <td>0</td>\n    </tr>\n    <tr>\n      <th>4</th>\n      <td>0</td>\n      <td>0</td>\n      <td>0</td>\n      <td>0</td>\n      <td>0</td>\n      <td>0</td>\n    </tr>\n    <tr>\n      <th>...</th>\n      <td>...</td>\n      <td>...</td>\n      <td>...</td>\n      <td>...</td>\n      <td>...</td>\n      <td>...</td>\n    </tr>\n    <tr>\n      <th>181</th>\n      <td>0</td>\n      <td>0</td>\n      <td>0</td>\n      <td>0</td>\n      <td>0</td>\n      <td>0</td>\n    </tr>\n    <tr>\n      <th>182</th>\n      <td>0</td>\n      <td>0</td>\n      <td>0</td>\n      <td>0</td>\n      <td>0</td>\n      <td>0</td>\n    </tr>\n    <tr>\n      <th>183</th>\n      <td>0</td>\n      <td>0</td>\n      <td>0</td>\n      <td>0</td>\n      <td>0</td>\n      <td>0</td>\n    </tr>\n    <tr>\n      <th>184</th>\n      <td>0</td>\n      <td>0</td>\n      <td>0</td>\n      <td>0</td>\n      <td>0</td>\n      <td>0</td>\n    </tr>\n    <tr>\n      <th>185</th>\n      <td>0</td>\n      <td>0</td>\n      <td>0</td>\n      <td>0</td>\n      <td>0</td>\n      <td>0</td>\n    </tr>\n  </tbody>\n</table>\n<p>186 rows × 6 columns</p>\n</div>"
     },
     "execution_count": 65,
     "metadata": {},
     "output_type": "execute_result"
    }
   ],
   "source": [
    "out"
   ]
  },
  {
   "cell_type": "code",
   "execution_count": 66,
   "id": "045fb306",
   "metadata": {
    "ExecuteTime": {
     "start_time": "2023-05-28T11:40:41.504469Z",
     "end_time": "2023-05-28T11:40:41.544124Z"
    }
   },
   "outputs": [
    {
     "data": {
      "text/plain": "13"
     },
     "execution_count": 66,
     "metadata": {},
     "output_type": "execute_result"
    }
   ],
   "source": [
    "out.sum().sum()"
   ]
  },
  {
   "cell_type": "code",
   "execution_count": 66,
   "id": "4c768ef8",
   "metadata": {
    "ExecuteTime": {
     "start_time": "2023-05-28T11:40:41.520108Z",
     "end_time": "2023-05-28T11:40:41.544691Z"
    }
   },
   "outputs": [],
   "source": []
  },
  {
   "cell_type": "code",
   "execution_count": 66,
   "id": "67a625d7",
   "metadata": {
    "ExecuteTime": {
     "start_time": "2023-05-28T11:40:41.541913Z",
     "end_time": "2023-05-28T11:40:41.593637Z"
    }
   },
   "outputs": [],
   "source": []
  },
  {
   "cell_type": "code",
   "execution_count": 66,
   "id": "ec00e3d1",
   "metadata": {
    "ExecuteTime": {
     "start_time": "2023-05-28T11:40:41.547369Z",
     "end_time": "2023-05-28T11:40:41.719041Z"
    }
   },
   "outputs": [],
   "source": []
  },
  {
   "cell_type": "code",
   "execution_count": 66,
   "id": "b15e8722",
   "metadata": {
    "ExecuteTime": {
     "start_time": "2023-05-28T11:40:41.562377Z",
     "end_time": "2023-05-28T11:40:41.766318Z"
    }
   },
   "outputs": [],
   "source": []
  },
  {
   "cell_type": "code",
   "execution_count": 66,
   "id": "9c65cb63",
   "metadata": {
    "ExecuteTime": {
     "start_time": "2023-05-28T11:40:41.578013Z",
     "end_time": "2023-05-28T11:40:41.766318Z"
    }
   },
   "outputs": [],
   "source": []
  },
  {
   "cell_type": "code",
   "execution_count": 66,
   "id": "413ce58f",
   "metadata": {
    "ExecuteTime": {
     "start_time": "2023-05-28T11:40:41.593637Z",
     "end_time": "2023-05-28T11:40:41.766318Z"
    }
   },
   "outputs": [],
   "source": []
  },
  {
   "cell_type": "code",
   "execution_count": 66,
   "id": "06cc1a63",
   "metadata": {
    "ExecuteTime": {
     "start_time": "2023-05-28T11:40:41.609263Z",
     "end_time": "2023-05-28T11:40:41.797568Z"
    }
   },
   "outputs": [],
   "source": []
  },
  {
   "cell_type": "code",
   "execution_count": 66,
   "id": "2eee3314",
   "metadata": {
    "ExecuteTime": {
     "start_time": "2023-05-28T11:40:41.629398Z",
     "end_time": "2023-05-28T11:40:41.813194Z"
    }
   },
   "outputs": [],
   "source": []
  }
 ],
 "metadata": {
  "kernelspec": {
   "display_name": "Python 3 (ipykernel)",
   "language": "python",
   "name": "python3"
  },
  "language_info": {
   "codemirror_mode": {
    "name": "ipython",
    "version": 3
   },
   "file_extension": ".py",
   "mimetype": "text/x-python",
   "name": "python",
   "nbconvert_exporter": "python",
   "pygments_lexer": "ipython3",
   "version": "3.9.16"
  }
 },
 "nbformat": 4,
 "nbformat_minor": 5
}
